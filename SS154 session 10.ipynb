{
 "cells": [
  {
   "cell_type": "markdown",
   "metadata": {},
   "source": [
    "# PCW"
   ]
  },
  {
   "cell_type": "markdown",
   "metadata": {},
   "source": [
    "Question 1 of 3\n",
    "\n",
    "First, provide the link to google sheets (or Github) containing all your data. Make sure both the TA and the instructor have \"View\" access to the file. You've already done this in the previous PCW."
   ]
  },
  {
   "cell_type": "markdown",
   "metadata": {},
   "source": [
    "https://raw.githubusercontent.com/MashikoL/econometrics_2/main/Econometrics%20%232%20-%20Combined.csv"
   ]
  },
  {
   "cell_type": "markdown",
   "metadata": {},
   "source": [
    "Create a codebook that includes the name of each variable in the data, a one-line description of each variable, variable format (continuous, categorical, etc), its unit, how it’s collected with mentioning its sources (#variables). The codebook should be a Google Doc. Provide the link to the Google Doc and make sure you give the instructor and the TA access to your codebook.\n",
    "\n",
    "\n",
    "Note that this codebook will go into your final project for this course. This is a good guide for writing a codebook."
   ]
  },
  {
   "cell_type": "markdown",
   "metadata": {},
   "source": [
    "https://docs.google.com/document/d/1ot6Votat5OEAslqeQg6GMG1y0H-_Q0e57VSqzM3tbE0/edit?usp=sharing"
   ]
  },
  {
   "cell_type": "markdown",
   "metadata": {},
   "source": [
    "Import the data directly from Google Sheets or from Github. You've already done this for last session's PCW."
   ]
  },
  {
   "cell_type": "code",
   "execution_count": null,
   "metadata": {},
   "outputs": [],
   "source": [
    "install.packages(\"rlang\")\n",
    "\n",
    "\n",
    "csv_url <- \"https://raw.githubusercontent.com/MashikoL/econometrics_2/main/Econometrics%20%232%20-%20Combined.csv\"\n",
    "\n",
    "dataset <- read.csv(csv_url)\n",
    "\n",
    "# Check the first few rows of the dataset\n",
    "head(dataset)"
   ]
  },
  {
   "cell_type": "markdown",
   "metadata": {},
   "source": [
    "Run a regression of your outcome variable on treatment and any confounders you have identified from your causal graph. You've already done this for last session's PCW."
   ]
  },
  {
   "cell_type": "code",
   "execution_count": null,
   "metadata": {},
   "outputs": [],
   "source": [
    "model1 <- lm(Depression_May_Jun_2021 ~ Legalized + Party + Alcohol + Tobacco, data = dataset)\n",
    "summary(model1)\n",
    "\n",
    "model2 <- lm(Anxiety_May_Jun_2021 ~ Legalized + Party + Alcohol + Tobacco, data = dataset)\n",
    "summary(model2)\n",
    "\n"
   ]
  },
  {
   "cell_type": "markdown",
   "metadata": {},
   "source": [
    "Question 3 of 3\n",
    "Write a page that interprets all the findings from your regression output in R including the size of the coefficients, what they mean, their statistical significance, and the R2 of the regression. You can write up to 500 words. This part should be a lot more detailed than the answer you provides in last session's PCW.\n",
    "\n",
    "\n",
    "\n",
    "Your write up here can be used for your assignment 3."
   ]
  },
  {
   "cell_type": "markdown",
   "metadata": {},
   "source": [
    "I am interpreting the regression outputs for models analyzing the influence of marijuana legalization (Legalized), political party affiliation (Party), alcohol consumption (Alcohol), and tobacco use (Tobacco) on depression and anxiety levels in May-Jun 2021. For depression, the model suggests a non-statistically significant slight increase in scores with marijuana legalization (coefficient = 0.027337, p-value = 0.4624) and a minor decrease associated with political party affiliation (coefficient = -0.041256, p-value = 0.2912). At the same time, alcohol consumption shows a small but significant decrease in depression scores (coefficient = -0.007826, p-value = 0.0102), and tobacco use indicates a non-significant slight increase (coefficient = 0.004841, p-value = 0.2494). The model accounts for approximately 20.87% of the variance in depression scores, with an adjusted R-squared of 0.1399, and is overall statistically significant (F-statistic p-value = 0.0266). For anxiety, the findings are similar. Marijuana legalization is associated with a non-significant slight increase in anxiety scores (coefficient = 0.051770, p-value = 0.20167), political party affiliation with a non-significant minor decrease (coefficient = -0.040007, p-value = 0.34425), alcohol consumption with a significant decrease (coefficient = -0.010208, p-value = 0.00232), and tobacco use with a non-significant negligible decrease (coefficient = -0.001418, p-value = 0.75381). This model explains about 22.75% of the variance in anxiety scores (Multiple R-squared = 0.2275), with an adjusted R-squared of 0.1603, and is statistically significant (F-statistic p-value = 0.01646). Both models underscore alcohol consumption's significant association with lower depression and anxiety levels, though effect sizes are modest. In contrast, the legalization of marijuana, political party affiliation, and tobacco use do not show statistically significant impacts on depression or anxiety. I am not sure what else to write here."
   ]
  }
 ],
 "metadata": {
  "language_info": {
   "name": "python"
  }
 },
 "nbformat": 4,
 "nbformat_minor": 2
}
